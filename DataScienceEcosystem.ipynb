{
 "cells": [
  {
   "cell_type": "markdown",
   "id": "5703b4fa-8764-4e2a-bf9e-2d0fb6176208",
   "metadata": {},
   "source": [
    "# Data Science Ecosystem"
   ]
  },
  {
   "cell_type": "markdown",
   "id": "47011ec5-1682-4779-be0f-40b6ae5fbd4b",
   "metadata": {},
   "source": [
    "## Author\n",
    "David Meszaros"
   ]
  },
  {
   "cell_type": "markdown",
   "id": "d7409653-a83d-4181-807d-24258d88a410",
   "metadata": {},
   "source": [
    "In this notebook, Data Science Tools and Ecosystem are summarized. "
   ]
  },
  {
   "cell_type": "markdown",
   "id": "f3a9c723-c206-4375-b924-be989fa9b832",
   "metadata": {},
   "source": [
    "__Objectives:__\n",
    "- List popular languages for Data Science\n",
    "- List libraries commonly used by Data Scientists\n",
    "- Provide some examples of evaluation arithmetic expressions using python"
   ]
  },
  {
   "cell_type": "markdown",
   "id": "76949bfe-1476-4fb8-b178-052e1def3fde",
   "metadata": {},
   "source": [
    "Some of the popular languages that Data Scientists use are: \n",
    "1. Python\n",
    "2. R\n",
    "3. SQL"
   ]
  },
  {
   "attachments": {},
   "cell_type": "markdown",
   "id": "89653f66-54b6-4338-878b-100d5ce6550f",
   "metadata": {},
   "source": [
    "Some of the commonly used libraries used by Data Scientists include:\n",
    "1. Pandas\n",
    "2. TensorFlow\n",
    "3. Seaborn"
   ]
  },
  {
   "cell_type": "markdown",
   "id": "937ea586-179d-42a7-bfb3-ebe9d1294a69",
   "metadata": {},
   "source": [
    "| Data Science Tools |\n",
    "|--------------------|\n",
    "| Jupyter Notebooks |\n",
    "| PyTorch |\n",
    "| Hugging Face |\n",
    "| GitHub |"
   ]
  },
  {
   "cell_type": "markdown",
   "id": "5e22f8df-2932-4305-9554-f7b186bd58ff",
   "metadata": {},
   "source": [
    "### Below are a few examples of evaluating arithmetic expressions in Python."
   ]
  },
  {
   "cell_type": "code",
   "execution_count": 11,
   "id": "d229bcf9-8a8f-4be4-8746-2f949b0b1121",
   "metadata": {},
   "outputs": [
    {
     "data": {
      "text/plain": [
       "17"
      ]
     },
     "execution_count": 11,
     "metadata": {},
     "output_type": "execute_result"
    }
   ],
   "source": [
    "# This is a simple arithetic expression to multiply then add integers. \n",
    "(3*4)+5"
   ]
  },
  {
   "cell_type": "code",
   "execution_count": 15,
   "id": "dca7a824-af48-4d3f-ac8c-7f7e051f8348",
   "metadata": {},
   "outputs": [
    {
     "data": {
      "text/plain": [
       "3.3333333333333335"
      ]
     },
     "execution_count": 15,
     "metadata": {},
     "output_type": "execute_result"
    }
   ],
   "source": [
    "# This will convert 200 minutes to hours by dividing by 60.\n",
    "200/60"
   ]
  },
  {
   "cell_type": "markdown",
   "id": "4378ddf0-8f64-4283-af2c-a453c5e943e7",
   "metadata": {},
   "source": []
  }
 ],
 "metadata": {
  "kernelspec": {
   "display_name": "Python 3 (ipykernel)",
   "language": "python",
   "name": "python3"
  },
  "language_info": {
   "codemirror_mode": {
    "name": "ipython",
    "version": 3
   },
   "file_extension": ".py",
   "mimetype": "text/x-python",
   "name": "python",
   "nbconvert_exporter": "python",
   "pygments_lexer": "ipython3",
   "version": "3.12.4"
  }
 },
 "nbformat": 4,
 "nbformat_minor": 5
}
